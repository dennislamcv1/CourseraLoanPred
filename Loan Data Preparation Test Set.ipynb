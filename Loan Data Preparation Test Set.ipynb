{
 "cells": [
  {
   "cell_type": "markdown",
   "metadata": {},
   "source": [
    "# Loan Test Data Preparation\n",
    "\n",
    "## This notebook is for Data Cleaning and Feature Engineering"
   ]
  },
  {
   "cell_type": "markdown",
   "metadata": {},
   "source": [
    "**==============================================================================================================**"
   ]
  },
  {
   "cell_type": "markdown",
   "metadata": {},
   "source": [
    "## Data Dictionary"
   ]
  },
  {
   "cell_type": "markdown",
   "metadata": {},
   "source": [
    "![image](desc.png)"
   ]
  },
  {
   "cell_type": "markdown",
   "metadata": {},
   "source": [
    "**==============================================================================================================**"
   ]
  },
  {
   "cell_type": "markdown",
   "metadata": {},
   "source": [
    "## Import Libraries"
   ]
  },
  {
   "cell_type": "code",
   "execution_count": 1,
   "metadata": {},
   "outputs": [
    {
     "data": {
      "application/javascript": [
       "IPython.notebook.set_autosave_interval(60000)"
      ]
     },
     "metadata": {},
     "output_type": "display_data"
    },
    {
     "name": "stdout",
     "output_type": "stream",
     "text": [
      "Autosaving every 60 seconds\n"
     ]
    }
   ],
   "source": [
    "import numpy as np\n",
    "from numpy import count_nonzero, median, mean\n",
    "import pandas as pd\n",
    "import matplotlib.pyplot as plt\n",
    "import seaborn as sns\n",
    "import random\n",
    "#import squarify\n",
    "\n",
    "import datetime\n",
    "from datetime import datetime, timedelta, date, time\n",
    "\n",
    "\n",
    "#import os\n",
    "#import zipfile\n",
    "import scipy\n",
    "from scipy import stats\n",
    "from scipy.stats.mstats import normaltest # D'Agostino K^2 Test\n",
    "from scipy.stats import boxcox\n",
    "from collections import Counter\n",
    "\n",
    "import sklearn\n",
    "from sklearn.model_selection import train_test_split\n",
    "from sklearn.preprocessing import StandardScaler, MinMaxScaler, LabelEncoder, Binarizer \n",
    "from sklearn.preprocessing import OneHotEncoder, PolynomialFeatures, RobustScaler\n",
    "\n",
    "%matplotlib inline\n",
    "#sets the default autosave frequency in seconds\n",
    "%autosave 60 \n",
    "sns.set_style('dark')\n",
    "sns.set(font_scale=1.2)\n",
    "\n",
    "plt.rc('axes', titlesize=9)\n",
    "plt.rc('axes', labelsize=14)\n",
    "plt.rc('xtick', labelsize=12)\n",
    "plt.rc('ytick', labelsize=12)\n",
    "\n",
    "import warnings\n",
    "warnings.filterwarnings('ignore')\n",
    "\n",
    "# Use Feature-Engine library\n",
    "import feature_engine\n",
    "\n",
    "from feature_engine.imputation import AddMissingIndicator, CategoricalImputer, DropMissingData, MeanMedianImputer\n",
    "from feature_engine.imputation import ArbitraryNumberImputer, RandomSampleImputer\n",
    "\n",
    "from feature_engine.outliers import Winsorizer, ArbitraryOutlierCapper, OutlierTrimmer\n",
    "\n",
    "from feature_engine.encoding import CountFrequencyEncoder, DecisionTreeEncoder, MeanEncoder, OneHotEncoder\n",
    "from feature_engine.encoding import OrdinalEncoder, WoEEncoder, RareLabelEncoder, StringSimilarityEncoder\n",
    "\n",
    "from feature_engine.discretisation import EqualWidthDiscretiser, EqualFrequencyDiscretiser, ArbitraryDiscretiser\n",
    "from feature_engine.discretisation import DecisionTreeDiscretiser, EqualWidthDiscretiser\n",
    "\n",
    "from feature_engine.datetime import DatetimeFeatures\n",
    "\n",
    "from feature_engine.creation import CyclicalFeatures, MathFeatures, RelativeFeatures\n",
    "\n",
    "\n",
    "pd.set_option('display.max_columns',None)\n",
    "#pd.set_option('display.max_rows',None)\n",
    "pd.set_option('display.width', 1000)\n",
    "pd.set_option('display.float_format','{:.2f}'.format)\n",
    "\n",
    "random.seed(0)\n",
    "np.random.seed(0)\n",
    "np.set_printoptions(suppress=True)"
   ]
  },
  {
   "cell_type": "markdown",
   "metadata": {},
   "source": [
    "## Data Quick Glance"
   ]
  },
  {
   "cell_type": "code",
   "execution_count": 2,
   "metadata": {},
   "outputs": [],
   "source": [
    "df = pd.read_csv(\"testmod.csv\")"
   ]
  },
  {
   "cell_type": "code",
   "execution_count": 3,
   "metadata": {},
   "outputs": [
    {
     "data": {
      "text/html": [
       "<div>\n",
       "<style scoped>\n",
       "    .dataframe tbody tr th:only-of-type {\n",
       "        vertical-align: middle;\n",
       "    }\n",
       "\n",
       "    .dataframe tbody tr th {\n",
       "        vertical-align: top;\n",
       "    }\n",
       "\n",
       "    .dataframe thead th {\n",
       "        text-align: right;\n",
       "    }\n",
       "</style>\n",
       "<table border=\"1\" class=\"dataframe\">\n",
       "  <thead>\n",
       "    <tr style=\"text-align: right;\">\n",
       "      <th></th>\n",
       "      <th>age</th>\n",
       "      <th>income</th>\n",
       "      <th>loanamount</th>\n",
       "      <th>creditscore</th>\n",
       "      <th>monthsemployed</th>\n",
       "      <th>numcreditlines</th>\n",
       "      <th>interestrate</th>\n",
       "      <th>loanterm</th>\n",
       "      <th>dtiratio</th>\n",
       "      <th>degree</th>\n",
       "      <th>masters</th>\n",
       "      <th>highschool</th>\n",
       "      <th>fulltime</th>\n",
       "      <th>unemployed</th>\n",
       "      <th>selfemployed</th>\n",
       "      <th>divorced</th>\n",
       "      <th>married</th>\n",
       "      <th>hasmortgage</th>\n",
       "      <th>hasdependents</th>\n",
       "      <th>otherloans</th>\n",
       "      <th>autoloans</th>\n",
       "      <th>businessloans</th>\n",
       "      <th>homeloans</th>\n",
       "      <th>hascosigner</th>\n",
       "    </tr>\n",
       "  </thead>\n",
       "  <tbody>\n",
       "    <tr>\n",
       "      <th>0</th>\n",
       "      <td>32</td>\n",
       "      <td>131645</td>\n",
       "      <td>43797</td>\n",
       "      <td>802</td>\n",
       "      <td>23</td>\n",
       "      <td>2</td>\n",
       "      <td>6.10</td>\n",
       "      <td>24</td>\n",
       "      <td>0.13</td>\n",
       "      <td>0</td>\n",
       "      <td>0</td>\n",
       "      <td>1</td>\n",
       "      <td>1</td>\n",
       "      <td>0</td>\n",
       "      <td>0</td>\n",
       "      <td>1</td>\n",
       "      <td>0</td>\n",
       "      <td>1</td>\n",
       "      <td>0</td>\n",
       "      <td>1</td>\n",
       "      <td>0</td>\n",
       "      <td>0</td>\n",
       "      <td>0</td>\n",
       "      <td>0</td>\n",
       "    </tr>\n",
       "    <tr>\n",
       "      <th>1</th>\n",
       "      <td>61</td>\n",
       "      <td>134312</td>\n",
       "      <td>18402</td>\n",
       "      <td>369</td>\n",
       "      <td>87</td>\n",
       "      <td>2</td>\n",
       "      <td>12.99</td>\n",
       "      <td>60</td>\n",
       "      <td>0.59</td>\n",
       "      <td>0</td>\n",
       "      <td>0</td>\n",
       "      <td>1</td>\n",
       "      <td>0</td>\n",
       "      <td>0</td>\n",
       "      <td>1</td>\n",
       "      <td>0</td>\n",
       "      <td>0</td>\n",
       "      <td>0</td>\n",
       "      <td>0</td>\n",
       "      <td>0</td>\n",
       "      <td>0</td>\n",
       "      <td>1</td>\n",
       "      <td>0</td>\n",
       "      <td>1</td>\n",
       "    </tr>\n",
       "    <tr>\n",
       "      <th>2</th>\n",
       "      <td>55</td>\n",
       "      <td>115809</td>\n",
       "      <td>151774</td>\n",
       "      <td>563</td>\n",
       "      <td>3</td>\n",
       "      <td>3</td>\n",
       "      <td>5.51</td>\n",
       "      <td>48</td>\n",
       "      <td>0.82</td>\n",
       "      <td>1</td>\n",
       "      <td>0</td>\n",
       "      <td>0</td>\n",
       "      <td>1</td>\n",
       "      <td>0</td>\n",
       "      <td>0</td>\n",
       "      <td>0</td>\n",
       "      <td>0</td>\n",
       "      <td>1</td>\n",
       "      <td>1</td>\n",
       "      <td>1</td>\n",
       "      <td>0</td>\n",
       "      <td>0</td>\n",
       "      <td>0</td>\n",
       "      <td>1</td>\n",
       "    </tr>\n",
       "    <tr>\n",
       "      <th>3</th>\n",
       "      <td>58</td>\n",
       "      <td>94970</td>\n",
       "      <td>55789</td>\n",
       "      <td>337</td>\n",
       "      <td>24</td>\n",
       "      <td>1</td>\n",
       "      <td>23.93</td>\n",
       "      <td>36</td>\n",
       "      <td>0.77</td>\n",
       "      <td>1</td>\n",
       "      <td>0</td>\n",
       "      <td>0</td>\n",
       "      <td>0</td>\n",
       "      <td>1</td>\n",
       "      <td>0</td>\n",
       "      <td>1</td>\n",
       "      <td>0</td>\n",
       "      <td>0</td>\n",
       "      <td>0</td>\n",
       "      <td>0</td>\n",
       "      <td>0</td>\n",
       "      <td>1</td>\n",
       "      <td>0</td>\n",
       "      <td>0</td>\n",
       "    </tr>\n",
       "    <tr>\n",
       "      <th>4</th>\n",
       "      <td>63</td>\n",
       "      <td>71727</td>\n",
       "      <td>189798</td>\n",
       "      <td>451</td>\n",
       "      <td>52</td>\n",
       "      <td>3</td>\n",
       "      <td>22.05</td>\n",
       "      <td>48</td>\n",
       "      <td>0.44</td>\n",
       "      <td>0</td>\n",
       "      <td>0</td>\n",
       "      <td>0</td>\n",
       "      <td>0</td>\n",
       "      <td>1</td>\n",
       "      <td>0</td>\n",
       "      <td>0</td>\n",
       "      <td>0</td>\n",
       "      <td>1</td>\n",
       "      <td>0</td>\n",
       "      <td>0</td>\n",
       "      <td>1</td>\n",
       "      <td>0</td>\n",
       "      <td>0</td>\n",
       "      <td>0</td>\n",
       "    </tr>\n",
       "  </tbody>\n",
       "</table>\n",
       "</div>"
      ],
      "text/plain": [
       "   age  income  loanamount  creditscore  monthsemployed  numcreditlines  interestrate  loanterm  dtiratio  degree  masters  highschool  fulltime  unemployed  selfemployed  divorced  married  hasmortgage  hasdependents  otherloans  autoloans  businessloans  homeloans  hascosigner\n",
       "0   32  131645       43797          802              23               2          6.10        24      0.13       0        0           1         1           0             0         1        0            1              0           1          0              0          0            0\n",
       "1   61  134312       18402          369              87               2         12.99        60      0.59       0        0           1         0           0             1         0        0            0              0           0          0              1          0            1\n",
       "2   55  115809      151774          563               3               3          5.51        48      0.82       1        0           0         1           0             0         0        0            1              1           1          0              0          0            1\n",
       "3   58   94970       55789          337              24               1         23.93        36      0.77       1        0           0         0           1             0         1        0            0              0           0          0              1          0            0\n",
       "4   63   71727      189798          451              52               3         22.05        48      0.44       0        0           0         0           1             0         0        0            1              0           0          1              0          0            0"
      ]
     },
     "execution_count": 3,
     "metadata": {},
     "output_type": "execute_result"
    }
   ],
   "source": [
    "df.head()"
   ]
  },
  {
   "cell_type": "code",
   "execution_count": 4,
   "metadata": {},
   "outputs": [
    {
     "name": "stdout",
     "output_type": "stream",
     "text": [
      "<class 'pandas.core.frame.DataFrame'>\n",
      "RangeIndex: 109435 entries, 0 to 109434\n",
      "Data columns (total 24 columns):\n",
      " #   Column          Non-Null Count   Dtype  \n",
      "---  ------          --------------   -----  \n",
      " 0   age             109435 non-null  int64  \n",
      " 1   income          109435 non-null  int64  \n",
      " 2   loanamount      109435 non-null  int64  \n",
      " 3   creditscore     109435 non-null  int64  \n",
      " 4   monthsemployed  109435 non-null  int64  \n",
      " 5   numcreditlines  109435 non-null  int64  \n",
      " 6   interestrate    109435 non-null  float64\n",
      " 7   loanterm        109435 non-null  int64  \n",
      " 8   dtiratio        109435 non-null  float64\n",
      " 9   degree          109435 non-null  int64  \n",
      " 10  masters         109435 non-null  int64  \n",
      " 11  highschool      109435 non-null  int64  \n",
      " 12  fulltime        109435 non-null  int64  \n",
      " 13  unemployed      109435 non-null  int64  \n",
      " 14  selfemployed    109435 non-null  int64  \n",
      " 15  divorced        109435 non-null  int64  \n",
      " 16  married         109435 non-null  int64  \n",
      " 17  hasmortgage     109435 non-null  int64  \n",
      " 18  hasdependents   109435 non-null  int64  \n",
      " 19  otherloans      109435 non-null  int64  \n",
      " 20  autoloans       109435 non-null  int64  \n",
      " 21  businessloans   109435 non-null  int64  \n",
      " 22  homeloans       109435 non-null  int64  \n",
      " 23  hascosigner     109435 non-null  int64  \n",
      "dtypes: float64(2), int64(22)\n",
      "memory usage: 20.0 MB\n"
     ]
    }
   ],
   "source": [
    "df.info()"
   ]
  },
  {
   "cell_type": "code",
   "execution_count": 5,
   "metadata": {},
   "outputs": [
    {
     "data": {
      "text/plain": [
       "int64      22\n",
       "float64     2\n",
       "dtype: int64"
      ]
     },
     "execution_count": 5,
     "metadata": {},
     "output_type": "execute_result"
    }
   ],
   "source": [
    "df.dtypes.value_counts()"
   ]
  },
  {
   "cell_type": "code",
   "execution_count": 6,
   "metadata": {},
   "outputs": [
    {
     "data": {
      "text/html": [
       "<div>\n",
       "<style scoped>\n",
       "    .dataframe tbody tr th:only-of-type {\n",
       "        vertical-align: middle;\n",
       "    }\n",
       "\n",
       "    .dataframe tbody tr th {\n",
       "        vertical-align: top;\n",
       "    }\n",
       "\n",
       "    .dataframe thead th {\n",
       "        text-align: right;\n",
       "    }\n",
       "</style>\n",
       "<table border=\"1\" class=\"dataframe\">\n",
       "  <thead>\n",
       "    <tr style=\"text-align: right;\">\n",
       "      <th></th>\n",
       "      <th>age</th>\n",
       "      <th>income</th>\n",
       "      <th>loanamount</th>\n",
       "      <th>creditscore</th>\n",
       "      <th>monthsemployed</th>\n",
       "      <th>numcreditlines</th>\n",
       "      <th>interestrate</th>\n",
       "      <th>loanterm</th>\n",
       "      <th>dtiratio</th>\n",
       "      <th>degree</th>\n",
       "      <th>masters</th>\n",
       "      <th>highschool</th>\n",
       "      <th>fulltime</th>\n",
       "      <th>unemployed</th>\n",
       "      <th>selfemployed</th>\n",
       "      <th>divorced</th>\n",
       "      <th>married</th>\n",
       "      <th>hasmortgage</th>\n",
       "      <th>hasdependents</th>\n",
       "      <th>otherloans</th>\n",
       "      <th>autoloans</th>\n",
       "      <th>businessloans</th>\n",
       "      <th>homeloans</th>\n",
       "      <th>hascosigner</th>\n",
       "    </tr>\n",
       "  </thead>\n",
       "  <tbody>\n",
       "    <tr>\n",
       "      <th>count</th>\n",
       "      <td>109435.00</td>\n",
       "      <td>109435.00</td>\n",
       "      <td>109435.00</td>\n",
       "      <td>109435.00</td>\n",
       "      <td>109435.00</td>\n",
       "      <td>109435.00</td>\n",
       "      <td>109435.00</td>\n",
       "      <td>109435.00</td>\n",
       "      <td>109435.00</td>\n",
       "      <td>109435.00</td>\n",
       "      <td>109435.00</td>\n",
       "      <td>109435.00</td>\n",
       "      <td>109435.00</td>\n",
       "      <td>109435.00</td>\n",
       "      <td>109435.00</td>\n",
       "      <td>109435.00</td>\n",
       "      <td>109435.00</td>\n",
       "      <td>109435.00</td>\n",
       "      <td>109435.00</td>\n",
       "      <td>109435.00</td>\n",
       "      <td>109435.00</td>\n",
       "      <td>109435.00</td>\n",
       "      <td>109435.00</td>\n",
       "      <td>109435.00</td>\n",
       "    </tr>\n",
       "    <tr>\n",
       "      <th>mean</th>\n",
       "      <td>43.54</td>\n",
       "      <td>82487.39</td>\n",
       "      <td>127486.54</td>\n",
       "      <td>574.67</td>\n",
       "      <td>59.58</td>\n",
       "      <td>2.50</td>\n",
       "      <td>13.50</td>\n",
       "      <td>36.09</td>\n",
       "      <td>0.50</td>\n",
       "      <td>0.25</td>\n",
       "      <td>0.25</td>\n",
       "      <td>0.25</td>\n",
       "      <td>0.25</td>\n",
       "      <td>0.25</td>\n",
       "      <td>0.25</td>\n",
       "      <td>0.33</td>\n",
       "      <td>0.33</td>\n",
       "      <td>0.50</td>\n",
       "      <td>0.50</td>\n",
       "      <td>0.20</td>\n",
       "      <td>0.20</td>\n",
       "      <td>0.20</td>\n",
       "      <td>0.20</td>\n",
       "      <td>0.50</td>\n",
       "    </tr>\n",
       "    <tr>\n",
       "      <th>std</th>\n",
       "      <td>15.02</td>\n",
       "      <td>38966.03</td>\n",
       "      <td>70703.10</td>\n",
       "      <td>158.80</td>\n",
       "      <td>34.55</td>\n",
       "      <td>1.12</td>\n",
       "      <td>6.65</td>\n",
       "      <td>16.93</td>\n",
       "      <td>0.23</td>\n",
       "      <td>0.44</td>\n",
       "      <td>0.43</td>\n",
       "      <td>0.43</td>\n",
       "      <td>0.43</td>\n",
       "      <td>0.43</td>\n",
       "      <td>0.43</td>\n",
       "      <td>0.47</td>\n",
       "      <td>0.47</td>\n",
       "      <td>0.50</td>\n",
       "      <td>0.50</td>\n",
       "      <td>0.40</td>\n",
       "      <td>0.40</td>\n",
       "      <td>0.40</td>\n",
       "      <td>0.40</td>\n",
       "      <td>0.50</td>\n",
       "    </tr>\n",
       "    <tr>\n",
       "      <th>min</th>\n",
       "      <td>18.00</td>\n",
       "      <td>15003.00</td>\n",
       "      <td>5002.00</td>\n",
       "      <td>300.00</td>\n",
       "      <td>0.00</td>\n",
       "      <td>1.00</td>\n",
       "      <td>2.00</td>\n",
       "      <td>12.00</td>\n",
       "      <td>0.10</td>\n",
       "      <td>0.00</td>\n",
       "      <td>0.00</td>\n",
       "      <td>0.00</td>\n",
       "      <td>0.00</td>\n",
       "      <td>0.00</td>\n",
       "      <td>0.00</td>\n",
       "      <td>0.00</td>\n",
       "      <td>0.00</td>\n",
       "      <td>0.00</td>\n",
       "      <td>0.00</td>\n",
       "      <td>0.00</td>\n",
       "      <td>0.00</td>\n",
       "      <td>0.00</td>\n",
       "      <td>0.00</td>\n",
       "      <td>0.00</td>\n",
       "    </tr>\n",
       "    <tr>\n",
       "      <th>25%</th>\n",
       "      <td>31.00</td>\n",
       "      <td>48745.00</td>\n",
       "      <td>66173.50</td>\n",
       "      <td>437.00</td>\n",
       "      <td>30.00</td>\n",
       "      <td>2.00</td>\n",
       "      <td>7.75</td>\n",
       "      <td>24.00</td>\n",
       "      <td>0.30</td>\n",
       "      <td>0.00</td>\n",
       "      <td>0.00</td>\n",
       "      <td>0.00</td>\n",
       "      <td>0.00</td>\n",
       "      <td>0.00</td>\n",
       "      <td>0.00</td>\n",
       "      <td>0.00</td>\n",
       "      <td>0.00</td>\n",
       "      <td>0.00</td>\n",
       "      <td>0.00</td>\n",
       "      <td>0.00</td>\n",
       "      <td>0.00</td>\n",
       "      <td>0.00</td>\n",
       "      <td>0.00</td>\n",
       "      <td>0.00</td>\n",
       "    </tr>\n",
       "    <tr>\n",
       "      <th>50%</th>\n",
       "      <td>44.00</td>\n",
       "      <td>82545.00</td>\n",
       "      <td>127345.00</td>\n",
       "      <td>575.00</td>\n",
       "      <td>60.00</td>\n",
       "      <td>3.00</td>\n",
       "      <td>13.50</td>\n",
       "      <td>36.00</td>\n",
       "      <td>0.50</td>\n",
       "      <td>0.00</td>\n",
       "      <td>0.00</td>\n",
       "      <td>0.00</td>\n",
       "      <td>0.00</td>\n",
       "      <td>0.00</td>\n",
       "      <td>0.00</td>\n",
       "      <td>0.00</td>\n",
       "      <td>0.00</td>\n",
       "      <td>0.00</td>\n",
       "      <td>0.00</td>\n",
       "      <td>0.00</td>\n",
       "      <td>0.00</td>\n",
       "      <td>0.00</td>\n",
       "      <td>0.00</td>\n",
       "      <td>1.00</td>\n",
       "    </tr>\n",
       "    <tr>\n",
       "      <th>75%</th>\n",
       "      <td>57.00</td>\n",
       "      <td>116184.00</td>\n",
       "      <td>188674.00</td>\n",
       "      <td>712.00</td>\n",
       "      <td>89.00</td>\n",
       "      <td>4.00</td>\n",
       "      <td>19.27</td>\n",
       "      <td>48.00</td>\n",
       "      <td>0.70</td>\n",
       "      <td>1.00</td>\n",
       "      <td>0.00</td>\n",
       "      <td>1.00</td>\n",
       "      <td>1.00</td>\n",
       "      <td>1.00</td>\n",
       "      <td>1.00</td>\n",
       "      <td>1.00</td>\n",
       "      <td>1.00</td>\n",
       "      <td>1.00</td>\n",
       "      <td>1.00</td>\n",
       "      <td>0.00</td>\n",
       "      <td>0.00</td>\n",
       "      <td>0.00</td>\n",
       "      <td>0.00</td>\n",
       "      <td>1.00</td>\n",
       "    </tr>\n",
       "    <tr>\n",
       "      <th>max</th>\n",
       "      <td>69.00</td>\n",
       "      <td>149999.00</td>\n",
       "      <td>249995.00</td>\n",
       "      <td>849.00</td>\n",
       "      <td>119.00</td>\n",
       "      <td>4.00</td>\n",
       "      <td>25.00</td>\n",
       "      <td>60.00</td>\n",
       "      <td>0.90</td>\n",
       "      <td>1.00</td>\n",
       "      <td>1.00</td>\n",
       "      <td>1.00</td>\n",
       "      <td>1.00</td>\n",
       "      <td>1.00</td>\n",
       "      <td>1.00</td>\n",
       "      <td>1.00</td>\n",
       "      <td>1.00</td>\n",
       "      <td>1.00</td>\n",
       "      <td>1.00</td>\n",
       "      <td>1.00</td>\n",
       "      <td>1.00</td>\n",
       "      <td>1.00</td>\n",
       "      <td>1.00</td>\n",
       "      <td>1.00</td>\n",
       "    </tr>\n",
       "  </tbody>\n",
       "</table>\n",
       "</div>"
      ],
      "text/plain": [
       "            age    income  loanamount  creditscore  monthsemployed  numcreditlines  interestrate  loanterm  dtiratio    degree   masters  highschool  fulltime  unemployed  selfemployed  divorced   married  hasmortgage  hasdependents  otherloans  autoloans  businessloans  homeloans  hascosigner\n",
       "count 109435.00 109435.00   109435.00    109435.00       109435.00       109435.00     109435.00 109435.00 109435.00 109435.00 109435.00   109435.00 109435.00   109435.00     109435.00 109435.00 109435.00    109435.00      109435.00   109435.00  109435.00      109435.00  109435.00    109435.00\n",
       "mean      43.54  82487.39   127486.54       574.67           59.58            2.50         13.50     36.09      0.50      0.25      0.25        0.25      0.25        0.25          0.25      0.33      0.33         0.50           0.50        0.20       0.20           0.20       0.20         0.50\n",
       "std       15.02  38966.03    70703.10       158.80           34.55            1.12          6.65     16.93      0.23      0.44      0.43        0.43      0.43        0.43          0.43      0.47      0.47         0.50           0.50        0.40       0.40           0.40       0.40         0.50\n",
       "min       18.00  15003.00     5002.00       300.00            0.00            1.00          2.00     12.00      0.10      0.00      0.00        0.00      0.00        0.00          0.00      0.00      0.00         0.00           0.00        0.00       0.00           0.00       0.00         0.00\n",
       "25%       31.00  48745.00    66173.50       437.00           30.00            2.00          7.75     24.00      0.30      0.00      0.00        0.00      0.00        0.00          0.00      0.00      0.00         0.00           0.00        0.00       0.00           0.00       0.00         0.00\n",
       "50%       44.00  82545.00   127345.00       575.00           60.00            3.00         13.50     36.00      0.50      0.00      0.00        0.00      0.00        0.00          0.00      0.00      0.00         0.00           0.00        0.00       0.00           0.00       0.00         1.00\n",
       "75%       57.00 116184.00   188674.00       712.00           89.00            4.00         19.27     48.00      0.70      1.00      0.00        1.00      1.00        1.00          1.00      1.00      1.00         1.00           1.00        0.00       0.00           0.00       0.00         1.00\n",
       "max       69.00 149999.00   249995.00       849.00          119.00            4.00         25.00     60.00      0.90      1.00      1.00        1.00      1.00        1.00          1.00      1.00      1.00         1.00           1.00        1.00       1.00           1.00       1.00         1.00"
      ]
     },
     "execution_count": 6,
     "metadata": {},
     "output_type": "execute_result"
    }
   ],
   "source": [
    "# Descriptive Statistical Analysis\n",
    "df.describe(include=\"all\")"
   ]
  },
  {
   "cell_type": "markdown",
   "metadata": {},
   "source": [
    "## Overall Visualization"
   ]
  },
  {
   "cell_type": "code",
   "execution_count": 7,
   "metadata": {},
   "outputs": [
    {
     "data": {
      "image/png": "[encoded data removed]",
      "text/plain": [
       "<Figure size 1440x3600 with 48 Axes>"
      ]
     },
     "metadata": {},
     "output_type": "display_data"
    }
   ],
   "source": [
    "df.hist(bins=50, figsize=(20,50), layout=(len(df.columns),2), grid=False)\n",
    "plt.suptitle('Histogram Feature Distribution', x=0.5, y=1.02, ha='center', fontsize=20)\n",
    "\n",
    "plt.tight_layout()\n",
    "plt.show()"
   ]
  },
  {
   "cell_type": "code",
   "execution_count": 8,
   "metadata": {},
   "outputs": [
    {
     "data": {
      "image/png": "[encoded data removed]",
      "text/plain": [
       "<Figure size 1440x720 with 1 Axes>"
      ]
     },
     "metadata": {},
     "output_type": "display_data"
    }
   ],
   "source": [
    "df.boxplot(figsize=(20,10), color='blue', fontsize=15)\n",
    "plt.suptitle('BoxPlots Feature Distribution', x=0.5, y=1.02, ha='center', fontsize=20)\n",
    "\n",
    "plt.tight_layout()\n",
    "plt.show()"
   ]
  },
  {
   "cell_type": "markdown",
   "metadata": {},
   "source": [
    "**==============================================================================================================**"
   ]
  },
  {
   "cell_type": "markdown",
   "metadata": {},
   "source": [
    "# Data Preprocessing"
   ]
  },
  {
   "cell_type": "markdown",
   "metadata": {},
   "source": [
    "# Feature Engineering\n",
    "\n",
    "  * **Feature selection**\n",
    "    * Removing uninformative features\n",
    "  * **Feature extraction**\n",
    "    * Creating new features from existing features\n",
    "  * **Feature transformation**\n",
    "    * Modifying existing features to better suit our objectives\n",
    "    * Encoding of categorical features as dummies\n",
    " \n",
    "When modeling, best practice is to perform a rigorous examination of your data before beginning feature engineering and feature selection. This process is important. Not only does it help you understand your data, what it's telling you, and what it's _not_ telling you, but it also can give you clues that help you create new features. "
   ]
  },
  {
   "cell_type": "markdown",
   "metadata": {},
   "source": [
    "### Drop unwanted features (Based on Domain Knowledge)"
   ]
  },
  {
   "cell_type": "code",
   "execution_count": 9,
   "metadata": {},
   "outputs": [
    {
     "data": {
      "text/html": [
       "<div>\n",
       "<style scoped>\n",
       "    .dataframe tbody tr th:only-of-type {\n",
       "        vertical-align: middle;\n",
       "    }\n",
       "\n",
       "    .dataframe tbody tr th {\n",
       "        vertical-align: top;\n",
       "    }\n",
       "\n",
       "    .dataframe thead th {\n",
       "        text-align: right;\n",
       "    }\n",
       "</style>\n",
       "<table border=\"1\" class=\"dataframe\">\n",
       "  <thead>\n",
       "    <tr style=\"text-align: right;\">\n",
       "      <th></th>\n",
       "      <th>age</th>\n",
       "      <th>income</th>\n",
       "      <th>loanamount</th>\n",
       "      <th>creditscore</th>\n",
       "      <th>monthsemployed</th>\n",
       "      <th>numcreditlines</th>\n",
       "      <th>interestrate</th>\n",
       "      <th>loanterm</th>\n",
       "      <th>dtiratio</th>\n",
       "      <th>degree</th>\n",
       "      <th>masters</th>\n",
       "      <th>highschool</th>\n",
       "      <th>fulltime</th>\n",
       "      <th>unemployed</th>\n",
       "      <th>selfemployed</th>\n",
       "      <th>divorced</th>\n",
       "      <th>married</th>\n",
       "      <th>hasmortgage</th>\n",
       "      <th>hasdependents</th>\n",
       "      <th>otherloans</th>\n",
       "      <th>autoloans</th>\n",
       "      <th>businessloans</th>\n",
       "      <th>homeloans</th>\n",
       "      <th>hascosigner</th>\n",
       "    </tr>\n",
       "  </thead>\n",
       "  <tbody>\n",
       "    <tr>\n",
       "      <th>0</th>\n",
       "      <td>32</td>\n",
       "      <td>131645</td>\n",
       "      <td>43797</td>\n",
       "      <td>802</td>\n",
       "      <td>23</td>\n",
       "      <td>2</td>\n",
       "      <td>6.10</td>\n",
       "      <td>24</td>\n",
       "      <td>0.13</td>\n",
       "      <td>0</td>\n",
       "      <td>0</td>\n",
       "      <td>1</td>\n",
       "      <td>1</td>\n",
       "      <td>0</td>\n",
       "      <td>0</td>\n",
       "      <td>1</td>\n",
       "      <td>0</td>\n",
       "      <td>1</td>\n",
       "      <td>0</td>\n",
       "      <td>1</td>\n",
       "      <td>0</td>\n",
       "      <td>0</td>\n",
       "      <td>0</td>\n",
       "      <td>0</td>\n",
       "    </tr>\n",
       "  </tbody>\n",
       "</table>\n",
       "</div>"
      ],
      "text/plain": [
       "   age  income  loanamount  creditscore  monthsemployed  numcreditlines  interestrate  loanterm  dtiratio  degree  masters  highschool  fulltime  unemployed  selfemployed  divorced  married  hasmortgage  hasdependents  otherloans  autoloans  businessloans  homeloans  hascosigner\n",
       "0   32  131645       43797          802              23               2          6.10        24      0.13       0        0           1         1           0             0         1        0            1              0           1          0              0          0            0"
      ]
     },
     "execution_count": 9,
     "metadata": {},
     "output_type": "execute_result"
    }
   ],
   "source": [
    "df.head(1)"
   ]
  },
  {
   "cell_type": "code",
   "execution_count": 10,
   "metadata": {},
   "outputs": [
    {
     "data": {
      "text/plain": [
       "Index(['age', 'income', 'loanamount', 'creditscore', 'monthsemployed', 'numcreditlines', 'interestrate', 'loanterm', 'dtiratio', 'degree', 'masters', 'highschool', 'fulltime', 'unemployed', 'selfemployed', 'divorced', 'married', 'hasmortgage', 'hasdependents', 'otherloans', 'autoloans', 'businessloans', 'homeloans', 'hascosigner'], dtype='object')"
      ]
     },
     "execution_count": 10,
     "metadata": {},
     "output_type": "execute_result"
    }
   ],
   "source": [
    "df.columns"
   ]
  },
  {
   "cell_type": "code",
   "execution_count": 12,
   "metadata": {},
   "outputs": [],
   "source": [
    "#df.drop(['LoanID'], axis=1, inplace=True)"
   ]
  },
  {
   "cell_type": "code",
   "execution_count": 13,
   "metadata": {},
   "outputs": [
    {
     "data": {
      "text/html": [
       "<div>\n",
       "<style scoped>\n",
       "    .dataframe tbody tr th:only-of-type {\n",
       "        vertical-align: middle;\n",
       "    }\n",
       "\n",
       "    .dataframe tbody tr th {\n",
       "        vertical-align: top;\n",
       "    }\n",
       "\n",
       "    .dataframe thead th {\n",
       "        text-align: right;\n",
       "    }\n",
       "</style>\n",
       "<table border=\"1\" class=\"dataframe\">\n",
       "  <thead>\n",
       "    <tr style=\"text-align: right;\">\n",
       "      <th></th>\n",
       "      <th>age</th>\n",
       "      <th>income</th>\n",
       "      <th>loanamount</th>\n",
       "      <th>creditscore</th>\n",
       "      <th>monthsemployed</th>\n",
       "      <th>numcreditlines</th>\n",
       "      <th>interestrate</th>\n",
       "      <th>loanterm</th>\n",
       "      <th>dtiratio</th>\n",
       "      <th>degree</th>\n",
       "      <th>masters</th>\n",
       "      <th>highschool</th>\n",
       "      <th>fulltime</th>\n",
       "      <th>unemployed</th>\n",
       "      <th>selfemployed</th>\n",
       "      <th>divorced</th>\n",
       "      <th>married</th>\n",
       "      <th>hasmortgage</th>\n",
       "      <th>hasdependents</th>\n",
       "      <th>otherloans</th>\n",
       "      <th>autoloans</th>\n",
       "      <th>businessloans</th>\n",
       "      <th>homeloans</th>\n",
       "      <th>hascosigner</th>\n",
       "    </tr>\n",
       "  </thead>\n",
       "  <tbody>\n",
       "    <tr>\n",
       "      <th>0</th>\n",
       "      <td>32</td>\n",
       "      <td>131645</td>\n",
       "      <td>43797</td>\n",
       "      <td>802</td>\n",
       "      <td>23</td>\n",
       "      <td>2</td>\n",
       "      <td>6.10</td>\n",
       "      <td>24</td>\n",
       "      <td>0.13</td>\n",
       "      <td>0</td>\n",
       "      <td>0</td>\n",
       "      <td>1</td>\n",
       "      <td>1</td>\n",
       "      <td>0</td>\n",
       "      <td>0</td>\n",
       "      <td>1</td>\n",
       "      <td>0</td>\n",
       "      <td>1</td>\n",
       "      <td>0</td>\n",
       "      <td>1</td>\n",
       "      <td>0</td>\n",
       "      <td>0</td>\n",
       "      <td>0</td>\n",
       "      <td>0</td>\n",
       "    </tr>\n",
       "    <tr>\n",
       "      <th>1</th>\n",
       "      <td>61</td>\n",
       "      <td>134312</td>\n",
       "      <td>18402</td>\n",
       "      <td>369</td>\n",
       "      <td>87</td>\n",
       "      <td>2</td>\n",
       "      <td>12.99</td>\n",
       "      <td>60</td>\n",
       "      <td>0.59</td>\n",
       "      <td>0</td>\n",
       "      <td>0</td>\n",
       "      <td>1</td>\n",
       "      <td>0</td>\n",
       "      <td>0</td>\n",
       "      <td>1</td>\n",
       "      <td>0</td>\n",
       "      <td>0</td>\n",
       "      <td>0</td>\n",
       "      <td>0</td>\n",
       "      <td>0</td>\n",
       "      <td>0</td>\n",
       "      <td>1</td>\n",
       "      <td>0</td>\n",
       "      <td>1</td>\n",
       "    </tr>\n",
       "    <tr>\n",
       "      <th>2</th>\n",
       "      <td>55</td>\n",
       "      <td>115809</td>\n",
       "      <td>151774</td>\n",
       "      <td>563</td>\n",
       "      <td>3</td>\n",
       "      <td>3</td>\n",
       "      <td>5.51</td>\n",
       "      <td>48</td>\n",
       "      <td>0.82</td>\n",
       "      <td>1</td>\n",
       "      <td>0</td>\n",
       "      <td>0</td>\n",
       "      <td>1</td>\n",
       "      <td>0</td>\n",
       "      <td>0</td>\n",
       "      <td>0</td>\n",
       "      <td>0</td>\n",
       "      <td>1</td>\n",
       "      <td>1</td>\n",
       "      <td>1</td>\n",
       "      <td>0</td>\n",
       "      <td>0</td>\n",
       "      <td>0</td>\n",
       "      <td>1</td>\n",
       "    </tr>\n",
       "    <tr>\n",
       "      <th>3</th>\n",
       "      <td>58</td>\n",
       "      <td>94970</td>\n",
       "      <td>55789</td>\n",
       "      <td>337</td>\n",
       "      <td>24</td>\n",
       "      <td>1</td>\n",
       "      <td>23.93</td>\n",
       "      <td>36</td>\n",
       "      <td>0.77</td>\n",
       "      <td>1</td>\n",
       "      <td>0</td>\n",
       "      <td>0</td>\n",
       "      <td>0</td>\n",
       "      <td>1</td>\n",
       "      <td>0</td>\n",
       "      <td>1</td>\n",
       "      <td>0</td>\n",
       "      <td>0</td>\n",
       "      <td>0</td>\n",
       "      <td>0</td>\n",
       "      <td>0</td>\n",
       "      <td>1</td>\n",
       "      <td>0</td>\n",
       "      <td>0</td>\n",
       "    </tr>\n",
       "    <tr>\n",
       "      <th>4</th>\n",
       "      <td>63</td>\n",
       "      <td>71727</td>\n",
       "      <td>189798</td>\n",
       "      <td>451</td>\n",
       "      <td>52</td>\n",
       "      <td>3</td>\n",
       "      <td>22.05</td>\n",
       "      <td>48</td>\n",
       "      <td>0.44</td>\n",
       "      <td>0</td>\n",
       "      <td>0</td>\n",
       "      <td>0</td>\n",
       "      <td>0</td>\n",
       "      <td>1</td>\n",
       "      <td>0</td>\n",
       "      <td>0</td>\n",
       "      <td>0</td>\n",
       "      <td>1</td>\n",
       "      <td>0</td>\n",
       "      <td>0</td>\n",
       "      <td>1</td>\n",
       "      <td>0</td>\n",
       "      <td>0</td>\n",
       "      <td>0</td>\n",
       "    </tr>\n",
       "  </tbody>\n",
       "</table>\n",
       "</div>"
      ],
      "text/plain": [
       "   age  income  loanamount  creditscore  monthsemployed  numcreditlines  interestrate  loanterm  dtiratio  degree  masters  highschool  fulltime  unemployed  selfemployed  divorced  married  hasmortgage  hasdependents  otherloans  autoloans  businessloans  homeloans  hascosigner\n",
       "0   32  131645       43797          802              23               2          6.10        24      0.13       0        0           1         1           0             0         1        0            1              0           1          0              0          0            0\n",
       "1   61  134312       18402          369              87               2         12.99        60      0.59       0        0           1         0           0             1         0        0            0              0           0          0              1          0            1\n",
       "2   55  115809      151774          563               3               3          5.51        48      0.82       1        0           0         1           0             0         0        0            1              1           1          0              0          0            1\n",
       "3   58   94970       55789          337              24               1         23.93        36      0.77       1        0           0         0           1             0         1        0            0              0           0          0              1          0            0\n",
       "4   63   71727      189798          451              52               3         22.05        48      0.44       0        0           0         0           1             0         0        0            1              0           0          1              0          0            0"
      ]
     },
     "execution_count": 13,
     "metadata": {},
     "output_type": "execute_result"
    }
   ],
   "source": [
    "df.head()"
   ]
  },
  {
   "cell_type": "code",
   "execution_count": 14,
   "metadata": {},
   "outputs": [
    {
     "data": {
      "text/html": [
       "<div>\n",
       "<style scoped>\n",
       "    .dataframe tbody tr th:only-of-type {\n",
       "        vertical-align: middle;\n",
       "    }\n",
       "\n",
       "    .dataframe tbody tr th {\n",
       "        vertical-align: top;\n",
       "    }\n",
       "\n",
       "    .dataframe thead th {\n",
       "        text-align: right;\n",
       "    }\n",
       "</style>\n",
       "<table border=\"1\" class=\"dataframe\">\n",
       "  <thead>\n",
       "    <tr style=\"text-align: right;\">\n",
       "      <th></th>\n",
       "      <th>age</th>\n",
       "      <th>income</th>\n",
       "      <th>loanamount</th>\n",
       "      <th>creditscore</th>\n",
       "      <th>monthsemployed</th>\n",
       "      <th>numcreditlines</th>\n",
       "      <th>interestrate</th>\n",
       "      <th>loanterm</th>\n",
       "      <th>dtiratio</th>\n",
       "      <th>degree</th>\n",
       "      <th>masters</th>\n",
       "      <th>highschool</th>\n",
       "      <th>fulltime</th>\n",
       "      <th>unemployed</th>\n",
       "      <th>selfemployed</th>\n",
       "      <th>divorced</th>\n",
       "      <th>married</th>\n",
       "      <th>hasmortgage</th>\n",
       "      <th>hasdependents</th>\n",
       "      <th>otherloans</th>\n",
       "      <th>autoloans</th>\n",
       "      <th>businessloans</th>\n",
       "      <th>homeloans</th>\n",
       "      <th>hascosigner</th>\n",
       "    </tr>\n",
       "  </thead>\n",
       "  <tbody>\n",
       "    <tr>\n",
       "      <th>109430</th>\n",
       "      <td>67</td>\n",
       "      <td>76970</td>\n",
       "      <td>108110</td>\n",
       "      <td>404</td>\n",
       "      <td>67</td>\n",
       "      <td>3</td>\n",
       "      <td>10.51</td>\n",
       "      <td>36</td>\n",
       "      <td>0.18</td>\n",
       "      <td>0</td>\n",
       "      <td>0</td>\n",
       "      <td>0</td>\n",
       "      <td>0</td>\n",
       "      <td>0</td>\n",
       "      <td>1</td>\n",
       "      <td>0</td>\n",
       "      <td>1</td>\n",
       "      <td>1</td>\n",
       "      <td>1</td>\n",
       "      <td>0</td>\n",
       "      <td>1</td>\n",
       "      <td>0</td>\n",
       "      <td>0</td>\n",
       "      <td>0</td>\n",
       "    </tr>\n",
       "    <tr>\n",
       "      <th>109431</th>\n",
       "      <td>44</td>\n",
       "      <td>108272</td>\n",
       "      <td>238508</td>\n",
       "      <td>335</td>\n",
       "      <td>28</td>\n",
       "      <td>1</td>\n",
       "      <td>9.65</td>\n",
       "      <td>24</td>\n",
       "      <td>0.32</td>\n",
       "      <td>0</td>\n",
       "      <td>0</td>\n",
       "      <td>0</td>\n",
       "      <td>1</td>\n",
       "      <td>0</td>\n",
       "      <td>0</td>\n",
       "      <td>1</td>\n",
       "      <td>0</td>\n",
       "      <td>1</td>\n",
       "      <td>1</td>\n",
       "      <td>0</td>\n",
       "      <td>0</td>\n",
       "      <td>0</td>\n",
       "      <td>0</td>\n",
       "      <td>0</td>\n",
       "    </tr>\n",
       "    <tr>\n",
       "      <th>109432</th>\n",
       "      <td>54</td>\n",
       "      <td>73526</td>\n",
       "      <td>18513</td>\n",
       "      <td>576</td>\n",
       "      <td>75</td>\n",
       "      <td>2</td>\n",
       "      <td>17.22</td>\n",
       "      <td>36</td>\n",
       "      <td>0.62</td>\n",
       "      <td>0</td>\n",
       "      <td>1</td>\n",
       "      <td>0</td>\n",
       "      <td>0</td>\n",
       "      <td>0</td>\n",
       "      <td>0</td>\n",
       "      <td>1</td>\n",
       "      <td>0</td>\n",
       "      <td>0</td>\n",
       "      <td>1</td>\n",
       "      <td>0</td>\n",
       "      <td>0</td>\n",
       "      <td>0</td>\n",
       "      <td>0</td>\n",
       "      <td>0</td>\n",
       "    </tr>\n",
       "    <tr>\n",
       "      <th>109433</th>\n",
       "      <td>60</td>\n",
       "      <td>75296</td>\n",
       "      <td>38414</td>\n",
       "      <td>369</td>\n",
       "      <td>71</td>\n",
       "      <td>4</td>\n",
       "      <td>17.69</td>\n",
       "      <td>36</td>\n",
       "      <td>0.66</td>\n",
       "      <td>0</td>\n",
       "      <td>0</td>\n",
       "      <td>0</td>\n",
       "      <td>0</td>\n",
       "      <td>0</td>\n",
       "      <td>0</td>\n",
       "      <td>0</td>\n",
       "      <td>1</td>\n",
       "      <td>0</td>\n",
       "      <td>0</td>\n",
       "      <td>0</td>\n",
       "      <td>0</td>\n",
       "      <td>1</td>\n",
       "      <td>0</td>\n",
       "      <td>1</td>\n",
       "    </tr>\n",
       "    <tr>\n",
       "      <th>109434</th>\n",
       "      <td>18</td>\n",
       "      <td>19144</td>\n",
       "      <td>222659</td>\n",
       "      <td>531</td>\n",
       "      <td>1</td>\n",
       "      <td>4</td>\n",
       "      <td>15.28</td>\n",
       "      <td>48</td>\n",
       "      <td>0.10</td>\n",
       "      <td>1</td>\n",
       "      <td>0</td>\n",
       "      <td>0</td>\n",
       "      <td>0</td>\n",
       "      <td>1</td>\n",
       "      <td>0</td>\n",
       "      <td>0</td>\n",
       "      <td>1</td>\n",
       "      <td>0</td>\n",
       "      <td>0</td>\n",
       "      <td>0</td>\n",
       "      <td>0</td>\n",
       "      <td>1</td>\n",
       "      <td>0</td>\n",
       "      <td>1</td>\n",
       "    </tr>\n",
       "  </tbody>\n",
       "</table>\n",
       "</div>"
      ],
      "text/plain": [
       "        age  income  loanamount  creditscore  monthsemployed  numcreditlines  interestrate  loanterm  dtiratio  degree  masters  highschool  fulltime  unemployed  selfemployed  divorced  married  hasmortgage  hasdependents  otherloans  autoloans  businessloans  homeloans  hascosigner\n",
       "109430   67   76970      108110          404              67               3         10.51        36      0.18       0        0           0         0           0             1         0        1            1              1           0          1              0          0            0\n",
       "109431   44  108272      238508          335              28               1          9.65        24      0.32       0        0           0         1           0             0         1        0            1              1           0          0              0          0            0\n",
       "109432   54   73526       18513          576              75               2         17.22        36      0.62       0        1           0         0           0             0         1        0            0              1           0          0              0          0            0\n",
       "109433   60   75296       38414          369              71               4         17.69        36      0.66       0        0           0         0           0             0         0        1            0              0           0          0              1          0            1\n",
       "109434   18   19144      222659          531               1               4         15.28        48      0.10       1        0           0         0           1             0         0        1            0              0           0          0              1          0            1"
      ]
     },
     "execution_count": 14,
     "metadata": {},
     "output_type": "execute_result"
    }
   ],
   "source": [
    "df.tail()"
   ]
  },
  {
   "cell_type": "code",
   "execution_count": 15,
   "metadata": {},
   "outputs": [],
   "source": [
    "#df.to_csv(\"testmod.csv\", index=False)"
   ]
  },
  {
   "cell_type": "markdown",
   "metadata": {},
   "source": [
    "## Rename columns"
   ]
  },
  {
   "cell_type": "code",
   "execution_count": 16,
   "metadata": {},
   "outputs": [
    {
     "data": {
      "text/plain": [
       "Index(['age', 'income', 'loanamount', 'creditscore', 'monthsemployed', 'numcreditlines', 'interestrate', 'loanterm', 'dtiratio', 'degree', 'masters', 'highschool', 'fulltime', 'unemployed', 'selfemployed', 'divorced', 'married', 'hasmortgage', 'hasdependents', 'otherloans', 'autoloans', 'businessloans', 'homeloans', 'hascosigner'], dtype='object')"
      ]
     },
     "execution_count": 16,
     "metadata": {},
     "output_type": "execute_result"
    }
   ],
   "source": [
    "df.columns"
   ]
  },
  {
   "cell_type": "code",
   "execution_count": null,
   "metadata": {},
   "outputs": [],
   "source": [
    "#Method 3: Using a new list of column names\n",
    "\n",
    "# Creating a list of new columns\n",
    "df_cols = ['age', 'income', 'loanamount', 'creditscore', 'monthsemployed', 'numcreditlines', \n",
    "           'interestrate', 'loanterm', 'dtiratio', \n",
    "           'degree', 'masters', 'highschool', 'fulltime', 'unemployed', 'selfemployed', 'divorced', \n",
    "           'married', 'hasmortgage', 'hasdependents', 'otherloans', 'autoloans', 'businessloans', \n",
    "           'homeloans', 'hascosigner'\n",
    "          ]\n",
    "\n",
    "# printing the columns\n",
    "# before renaming\n",
    "print(df.columns)\n",
    "\n",
    "# Renaming the columns\n",
    "df.columns = df_cols\n",
    "\n",
    "# printing the columns\n",
    "# after renaming\n",
    "print(df.columns)\n"
   ]
  },
  {
   "cell_type": "code",
   "execution_count": null,
   "metadata": {},
   "outputs": [],
   "source": [
    "# make all column headers in pandas data frame lower case\n",
    "\n",
    "df.columns = map(str.lower, df.columns)"
   ]
  },
  {
   "cell_type": "code",
   "execution_count": null,
   "metadata": {},
   "outputs": [],
   "source": [
    "df.columns"
   ]
  },
  {
   "cell_type": "code",
   "execution_count": null,
   "metadata": {},
   "outputs": [],
   "source": [
    "#df.to_csv(\"testmod.csv\", index=False)"
   ]
  },
  {
   "cell_type": "markdown",
   "metadata": {},
   "source": [
    "**==============================================================================================================**"
   ]
  },
  {
   "cell_type": "markdown",
   "metadata": {},
   "source": [
    "## Treat Missing Values\n",
    "\n",
    "<b>How to deal with missing data?</b>\n",
    "\n",
    "<ol>\n",
    "    <li>Drop data<br>\n",
    "        a. Drop the whole row<br>\n",
    "        b. Drop the whole column\n",
    "    </li>\n",
    "    <li>Replace data<br>\n",
    "        a. Replace it by mean<br>\n",
    "        b. Replace it by frequency<br>\n",
    "        c. Replace it based on other functions\n",
    "    </li>\n",
    "</ol>\n",
    "\n",
    "For easier detection of missing values, pandas provides the `isna()`, `isnull()`, and `notna()` functions. For more information on pandas missing values please check out this documentation).\n",
    "\n",
    "There are several options for dealing with missing values. We will use 'Lot Frontage' feature to analyze for missing values.\n",
    "\n",
    "1. We can drop the missing values, using `dropna()` method.\n",
    "\n",
    "2. We can drop the whole attribute (column), that contains missing values, using the `drop()` method.\n",
    "\n",
    "3. We can replace the missing values (zero, the mean, the median, etc.), using `fillna()` method."
   ]
  },
  {
   "cell_type": "code",
   "execution_count": 17,
   "metadata": {},
   "outputs": [
    {
     "data": {
      "text/plain": [
       "age               0\n",
       "income            0\n",
       "loanamount        0\n",
       "creditscore       0\n",
       "monthsemployed    0\n",
       "numcreditlines    0\n",
       "interestrate      0\n",
       "loanterm          0\n",
       "dtiratio          0\n",
       "degree            0\n",
       "masters           0\n",
       "highschool        0\n",
       "fulltime          0\n",
       "unemployed        0\n",
       "selfemployed      0\n",
       "divorced          0\n",
       "married           0\n",
       "hasmortgage       0\n",
       "hasdependents     0\n",
       "otherloans        0\n",
       "autoloans         0\n",
       "businessloans     0\n",
       "homeloans         0\n",
       "hascosigner       0\n",
       "dtype: int64"
      ]
     },
     "execution_count": 17,
     "metadata": {},
     "output_type": "execute_result"
    }
   ],
   "source": [
    "df.isnull().sum()"
   ]
  },
  {
   "cell_type": "markdown",
   "metadata": {},
   "source": [
    "**==============================================================================================================**"
   ]
  },
  {
   "cell_type": "markdown",
   "metadata": {},
   "source": [
    "## Treat Duplicate Values"
   ]
  },
  {
   "cell_type": "code",
   "execution_count": 18,
   "metadata": {},
   "outputs": [
    {
     "data": {
      "text/plain": [
       "0"
      ]
     },
     "execution_count": 18,
     "metadata": {},
     "output_type": "execute_result"
    }
   ],
   "source": [
    "df.duplicated(keep='first').sum()"
   ]
  },
  {
   "cell_type": "markdown",
   "metadata": {},
   "source": [
    "**==============================================================================================================**"
   ]
  },
  {
   "cell_type": "markdown",
   "metadata": {},
   "source": [
    "## One-hot encoding\n",
    "\n",
    "There are three unique values: France, Spain, and Germany. Let's encode this data so it can be represented using Boolean features. We'll use a pandas function called `pd.get_dummies()` to do this.\n",
    "\n",
    "When we call `pd.get_dummies()` on this feature, it will replace the `Geography` column with three new Boolean columns--one for each possible category contained in the column being dummied. \n",
    "\n",
    "When we specify `drop_first=True` in the function call, it means that instead of replacing `Geography` with three new columns, it will instead replace it with two columns. We can do this because no information is lost from this, but the dataset is shorter and simpler.  \n",
    "\n",
    "In this case, we end up with two new columns called `Geography_Germany` and `Geography_Spain`. We don't need a `Geography_France` column. Why not? Because if a customer's values in `Geography_Germany` and `Geography_Spain` are both 0, we'll know they're from France! "
   ]
  },
  {
   "cell_type": "code",
   "execution_count": 19,
   "metadata": {},
   "outputs": [
    {
     "name": "stdout",
     "output_type": "stream",
     "text": [
      "<class 'pandas.core.frame.DataFrame'>\n",
      "RangeIndex: 109435 entries, 0 to 109434\n",
      "Data columns (total 24 columns):\n",
      " #   Column          Non-Null Count   Dtype  \n",
      "---  ------          --------------   -----  \n",
      " 0   age             109435 non-null  int64  \n",
      " 1   income          109435 non-null  int64  \n",
      " 2   loanamount      109435 non-null  int64  \n",
      " 3   creditscore     109435 non-null  int64  \n",
      " 4   monthsemployed  109435 non-null  int64  \n",
      " 5   numcreditlines  109435 non-null  int64  \n",
      " 6   interestrate    109435 non-null  float64\n",
      " 7   loanterm        109435 non-null  int64  \n",
      " 8   dtiratio        109435 non-null  float64\n",
      " 9   degree          109435 non-null  int64  \n",
      " 10  masters         109435 non-null  int64  \n",
      " 11  highschool      109435 non-null  int64  \n",
      " 12  fulltime        109435 non-null  int64  \n",
      " 13  unemployed      109435 non-null  int64  \n",
      " 14  selfemployed    109435 non-null  int64  \n",
      " 15  divorced        109435 non-null  int64  \n",
      " 16  married         109435 non-null  int64  \n",
      " 17  hasmortgage     109435 non-null  int64  \n",
      " 18  hasdependents   109435 non-null  int64  \n",
      " 19  otherloans      109435 non-null  int64  \n",
      " 20  autoloans       109435 non-null  int64  \n",
      " 21  businessloans   109435 non-null  int64  \n",
      " 22  homeloans       109435 non-null  int64  \n",
      " 23  hascosigner     109435 non-null  int64  \n",
      "dtypes: float64(2), int64(22)\n",
      "memory usage: 20.0 MB\n"
     ]
    }
   ],
   "source": [
    "df.info()"
   ]
  },
  {
   "cell_type": "code",
   "execution_count": 21,
   "metadata": {},
   "outputs": [],
   "source": [
    "#df.describe(include=\"object\")"
   ]
  },
  {
   "cell_type": "code",
   "execution_count": null,
   "metadata": {},
   "outputs": [],
   "source": [
    "list(df.describe(include=\"object\"))"
   ]
  },
  {
   "cell_type": "code",
   "execution_count": null,
   "metadata": {},
   "outputs": [],
   "source": [
    "df[\"education\"].value_counts().to_frame()"
   ]
  },
  {
   "cell_type": "code",
   "execution_count": null,
   "metadata": {},
   "outputs": [],
   "source": [
    "plt.figure(figsize=(10,5))\n",
    "sns.barplot(x=df.education, y=df.default, data=df, ci=None, estimator=mean)\n",
    "plt.title(\"\")\n",
    "plt.show()"
   ]
  },
  {
   "cell_type": "code",
   "execution_count": null,
   "metadata": {},
   "outputs": [],
   "source": [
    "df[\"employmenttype\"].value_counts().to_frame()"
   ]
  },
  {
   "cell_type": "code",
   "execution_count": null,
   "metadata": {},
   "outputs": [],
   "source": [
    "plt.figure(figsize=(10,5))\n",
    "sns.barplot(x=df.employmenttype, y=df.default, data=df, ci=None, estimator=mean)\n",
    "plt.title(\"\")\n",
    "plt.show()"
   ]
  },
  {
   "cell_type": "code",
   "execution_count": null,
   "metadata": {},
   "outputs": [],
   "source": [
    "df[\"maritalstatus\"].value_counts().to_frame()"
   ]
  },
  {
   "cell_type": "code",
   "execution_count": null,
   "metadata": {},
   "outputs": [],
   "source": [
    "plt.figure(figsize=(10,5))\n",
    "sns.barplot(x=df.maritalstatus, y=df.default, data=df, ci=None, estimator=mean)\n",
    "plt.title(\"\")\n",
    "plt.show()"
   ]
  },
  {
   "cell_type": "code",
   "execution_count": null,
   "metadata": {},
   "outputs": [],
   "source": [
    "df[\"hasmortgage\"].value_counts().to_frame()"
   ]
  },
  {
   "cell_type": "code",
   "execution_count": null,
   "metadata": {},
   "outputs": [],
   "source": [
    "plt.figure(figsize=(10,5))\n",
    "sns.barplot(x=df.hasmortgage, y=df.default, data=df, ci=None, estimator=mean)\n",
    "plt.title(\"\")\n",
    "plt.show()"
   ]
  },
  {
   "cell_type": "code",
   "execution_count": null,
   "metadata": {},
   "outputs": [],
   "source": [
    "df[\"hasdependents\"].value_counts().to_frame()"
   ]
  },
  {
   "cell_type": "code",
   "execution_count": null,
   "metadata": {},
   "outputs": [],
   "source": [
    "df[\"loanpurpose\"].value_counts().to_frame()"
   ]
  },
  {
   "cell_type": "code",
   "execution_count": null,
   "metadata": {},
   "outputs": [],
   "source": [
    "df[\"hascosigner\"].value_counts().to_frame()"
   ]
  },
  {
   "cell_type": "markdown",
   "metadata": {},
   "source": [
    "## One Hot Encoding - Feature-engine\n",
    "\n",
    "Just like imputation, all methods of categorical encoding should be performed over the training set, and then propagated to the test set. \n",
    "\n",
    "Why? \n",
    "\n",
    "Because these methods will \"learn\" patterns from the train data, and therefore you want to avoid leaking information and overfitting. But more importantly, because we don't know whether in future / live data, we will have all the categories present in the train data, or if there will be more or less categories. Therefore, we want to anticipate this uncertainty by setting the right processes right from the start. We want to create transformers that learn the categories from the train set, and used those learned categories to create the dummy variables in both train and test sets."
   ]
  },
  {
   "cell_type": "code",
   "execution_count": null,
   "metadata": {},
   "outputs": [],
   "source": [
    "df.columns"
   ]
  },
  {
   "cell_type": "code",
   "execution_count": null,
   "metadata": {},
   "outputs": [],
   "source": [
    "df.describe(include=\"object\")"
   ]
  },
  {
   "cell_type": "code",
   "execution_count": null,
   "metadata": {},
   "outputs": [],
   "source": [
    "list(df.describe(include=\"object\"))"
   ]
  },
  {
   "cell_type": "code",
   "execution_count": null,
   "metadata": {},
   "outputs": [],
   "source": [
    "# set up encoder\n",
    "\n",
    "encoder = OneHotEncoder(\n",
    "    variables=['education', 'employmenttype', 'maritalstatus', 'hasmortgage', 'hasdependents', 'loanpurpose', 'hascosigner'],  # alternatively pass a list of variables\n",
    "    drop_last=False,  # to return k-1, use drop=false to return k dummies\n",
    ")"
   ]
  },
  {
   "cell_type": "code",
   "execution_count": null,
   "metadata": {},
   "outputs": [],
   "source": [
    "# fit the encoder (finds categories)\n",
    "\n",
    "encoder.fit(df)"
   ]
  },
  {
   "cell_type": "code",
   "execution_count": null,
   "metadata": {},
   "outputs": [],
   "source": [
    "# automatically found numerical variables\n",
    "\n",
    "encoder.variables_"
   ]
  },
  {
   "cell_type": "code",
   "execution_count": null,
   "metadata": {},
   "outputs": [],
   "source": [
    "# we observe the learned categories\n",
    "\n",
    "encoder.encoder_dict_"
   ]
  },
  {
   "cell_type": "code",
   "execution_count": null,
   "metadata": {},
   "outputs": [],
   "source": [
    "# transform the data sets\n",
    "\n",
    "df2 = encoder.transform(df)"
   ]
  },
  {
   "cell_type": "code",
   "execution_count": null,
   "metadata": {},
   "outputs": [],
   "source": [
    "df2.head()"
   ]
  },
  {
   "cell_type": "code",
   "execution_count": null,
   "metadata": {},
   "outputs": [],
   "source": [
    "# we can retrieve the feature names as follows:\n",
    "\n",
    "encoder.get_feature_names_out()"
   ]
  },
  {
   "cell_type": "markdown",
   "metadata": {},
   "source": [
    "```\n",
    "From Train Set Features:\n",
    "\n",
    "{'education': [\"Bachelor's\", \"Master's\", 'High School'],\n",
    " 'employmenttype': ['Full-time', 'Unemployed', 'Self-employed'],\n",
    " 'maritalstatus': ['Divorced', 'Married'],\n",
    " 'hasmortgage': ['Yes'],\n",
    " 'hasdependents': ['Yes'],\n",
    " 'loanpurpose': ['Other', 'Auto', 'Business', 'Home'],\n",
    " 'hascosigner': ['Yes']}\n",
    " ```\n",
    " "
   ]
  },
  {
   "cell_type": "markdown",
   "metadata": {},
   "source": [
    "### Match Train Set columns"
   ]
  },
  {
   "cell_type": "code",
   "execution_count": null,
   "metadata": {},
   "outputs": [],
   "source": [
    "df2.columns"
   ]
  },
  {
   "cell_type": "code",
   "execution_count": null,
   "metadata": {},
   "outputs": [],
   "source": [
    "df3 = df2[['age', 'income', 'loanamount', 'creditscore', 'monthsemployed', \n",
    "           'numcreditlines', 'interestrate', 'loanterm', 'dtiratio',\n",
    "           \"education_Bachelor's\", \"education_Master's\", 'education_High School',\n",
    "           'employmenttype_Full-time', 'employmenttype_Unemployed', 'employmenttype_Self-employed',\n",
    "           'maritalstatus_Divorced', 'maritalstatus_Married', 'hasmortgage_Yes', 'hasdependents_Yes',\n",
    "           'loanpurpose_Other', 'loanpurpose_Auto', 'loanpurpose_Business', 'loanpurpose_Home', 'hascosigner_Yes'\n",
    "          ]]"
   ]
  },
  {
   "cell_type": "code",
   "execution_count": null,
   "metadata": {},
   "outputs": [],
   "source": [
    "df3.head()"
   ]
  },
  {
   "cell_type": "code",
   "execution_count": null,
   "metadata": {},
   "outputs": [],
   "source": [
    "#df3.to_csv(\"testmod.csv\", index=False)"
   ]
  },
  {
   "cell_type": "markdown",
   "metadata": {},
   "source": [
    "**==============================================================================================================**"
   ]
  },
  {
   "cell_type": "markdown",
   "metadata": {},
   "source": [
    "#### Python code done by Dennis Lam"
   ]
  }
 ],
 "metadata": {
  "kernelspec": {
   "display_name": "Python 3 (ipykernel)",
   "language": "python",
   "name": "python3"
  },
  "language_info": {
   "codemirror_mode": {
    "name": "ipython",
    "version": 3
   },
   "file_extension": ".py",
   "mimetype": "text/x-python",
   "name": "python",
   "nbconvert_exporter": "python",
   "pygments_lexer": "ipython3",
   "version": "3.9.12"
  }
 },
 "nbformat": 4,
 "nbformat_minor": 4
}
